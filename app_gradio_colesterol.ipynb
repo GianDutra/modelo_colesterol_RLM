{
 "cells": [
  {
   "cell_type": "markdown",
   "metadata": {},
   "source": [
    "## Entregar Modelo como Gradio App (Módulo 8)\n"
   ]
  },
  {
   "cell_type": "markdown",
   "metadata": {},
   "source": [
    "### Construindo um App no Gradio\n"
   ]
  },
  {
   "cell_type": "markdown",
   "metadata": {},
   "source": [
    "Foi criada uma interface visual simples para interação com o modelo usando o Gradio. O modelo salvo anteriormente foi carregado com o JobLib. Em seguida, foi definida uma função chamada Predictive, que recebe os parâmetros de entrada e realiza a predição com base nesses dados. A interface visual foi criada utilizando o Gradio, onde os campos de entrada e saída foram configurados para facilitar a interação do usuário com o modelo.\n"
   ]
  },
  {
   "cell_type": "code",
   "execution_count": 39,
   "metadata": {},
   "outputs": [],
   "source": [
    "\"\"\"importar módulos\"\"\"\n",
    "import gradio as gr\n",
    "import joblib\n",
    "import pandas as pd"
   ]
  },
  {
   "cell_type": "code",
   "execution_count": 40,
   "metadata": {},
   "outputs": [
    {
     "name": "stdout",
     "output_type": "stream",
     "text": [
      "Modelo carregado com sucesso!\n"
     ]
    }
   ],
   "source": [
    "# carregar modelo (arquivo .plk)\n",
    "try:\n",
    "    lr_multiple_model = joblib.load(\"./colesterol.plk\")\n",
    "    print(\"Modelo carregado com sucesso!\")\n",
    "except Exception as e:\n",
    "    print(\"Erro ao carregar o modelo:\", e)\n"
   ]
  },
  {
   "cell_type": "code",
   "execution_count": 41,
   "metadata": {},
   "outputs": [],
   "source": [
    "def predict(grupo_sanguineo, fumante, nivel_atividade_fisica, idade, peso, altura):\n",
    "    _fumante = \"Sim\" if fumante == \"Sim\" else \"Não\"\n",
    "    prediction_values = {\n",
    "        \"grupo_sanguineo\": grupo_sanguineo,\n",
    "        \"fumante\": _fumante,\n",
    "        \"nivel_atividade_fisica\": nivel_atividade_fisica,\n",
    "        \"idade\": idade,\n",
    "        \"peso\": peso,\n",
    "        \"altura\": altura,\n",
    "    }\n",
    "\n",
    "    print(\"Valores de entrada:\", prediction_values)  # Verificando os dados recebidos\n",
    "\n",
    "    predict_df = pd.DataFrame(prediction_values, index=[1])\n",
    "    print(\"DataFrame para predição:\", predict_df)  # Verificando o DataFrame gerado\n",
    "\n",
    "    colesterol = lr_multiple_model.predict(predict_df)\n",
    "    print(\"Resultado da predição:\", colesterol)  # Verificando o resultado da predição\n",
    "\n",
    "    # return colesterol.reshape(-1)\n",
    "    return colesterol[0]\n"
   ]
  },
  {
   "cell_type": "code",
   "execution_count": 42,
   "metadata": {},
   "outputs": [],
   "source": [
    "demo = gr.Interface(\n",
    "    fn=predict,\n",
    "    inputs=[  \n",
    "      gr.Radio([\"O\", \"A\", \"B\", \"AB\"], value=\"A\"),\n",
    "      gr.Radio([\"Sim\", \"Não\"], value=\"Não\"),\n",
    "      gr.Radio([\"Alto\", \"Moderado\", \"Baixo\"], value=\"Moderado\"),\n",
    "      gr.Slider(20, 80, step=1, value=45), \n",
    "      gr.Slider(40, 160, step=0.1, value=94),\n",
    "      gr.Slider(150, 200, step=1, value=184),\n",
    "    ],\n",
    "    outputs=['number']\n",
    ")"
   ]
  },
  {
   "cell_type": "markdown",
   "metadata": {},
   "source": [
    "### Testando nosso App no Gradio\n"
   ]
  },
  {
   "cell_type": "markdown",
   "metadata": {},
   "source": [
    "Nesta aula, exploramos como fazer a conversão de uma variável booleana para uma variável de texto antes de enviá-la para o modelo. Foi explicado que o modelo espera receber \"sim\" ou \"não\" em vez de \"true\" ou \"false\". Para fazer essa conversão, criamos uma nova variável que assume o valor \"sim\" se a variável booleana for verdadeira e \"não\" caso contrário. Em seguida, executamos novamente a demonstração com a nova variável convertida. Também aprendemos como interagir com o modelo usando uma interface visual, que pode ser acessada localmente ou por meio de um link gerado pelo Gradle.\n"
   ]
  },
  {
   "cell_type": "code",
   "execution_count": 43,
   "metadata": {},
   "outputs": [
    {
     "name": "stdout",
     "output_type": "stream",
     "text": [
      "* Running on local URL:  http://127.0.0.1:7866\n",
      "\n",
      "To create a public link, set `share=True` in `launch()`.\n"
     ]
    },
    {
     "data": {
      "text/html": [
       "<div><iframe src=\"http://127.0.0.1:7866/\" width=\"100%\" height=\"500\" allow=\"autoplay; camera; microphone; clipboard-read; clipboard-write;\" frameborder=\"0\" allowfullscreen></iframe></div>"
      ],
      "text/plain": [
       "<IPython.core.display.HTML object>"
      ]
     },
     "metadata": {},
     "output_type": "display_data"
    },
    {
     "data": {
      "text/plain": []
     },
     "execution_count": 43,
     "metadata": {},
     "output_type": "execute_result"
    }
   ],
   "source": [
    "# rodar interface do modelo de predição no localhost\n",
    "demo.launch()"
   ]
  },
  {
   "cell_type": "code",
   "execution_count": 44,
   "metadata": {},
   "outputs": [],
   "source": [
    "# finalizar interface - fechar a porta do localhost\n",
    "# demo.close()"
   ]
  },
  {
   "cell_type": "code",
   "execution_count": 45,
   "metadata": {},
   "outputs": [
    {
     "name": "stdout",
     "output_type": "stream",
     "text": [
      "Valores de entrada: {'grupo_sanguineo': 'A', 'fumante': 'Sim', 'nivel_atividade_fisica': 'Alto', 'idade': 45, 'peso': 94, 'altura': 184}\n",
      "DataFrame para predição:   grupo_sanguineo fumante nivel_atividade_fisica  idade  peso  altura\n",
      "1               A     Sim                   Alto     45    94     184\n",
      "Resultado da predição: [219.68802918]\n",
      "219.68802917894283\n"
     ]
    },
    {
     "name": "stdout",
     "output_type": "stream",
     "text": [
      "Valores de entrada: {'grupo_sanguineo': 'A', 'fumante': 'Não', 'nivel_atividade_fisica': 'Moderado', 'idade': 45, 'peso': 94, 'altura': 184}\n",
      "DataFrame para predição:   grupo_sanguineo fumante nivel_atividade_fisica  idade  peso  altura\n",
      "1               A     Não               Moderado     45    94     184\n",
      "Resultado da predição: [218.45245554]\n"
     ]
    }
   ],
   "source": [
    "# Teste manual da função de predição\n",
    "print(predict(\"A\", \"Sim\", \"Alto\", 45, 94, 184))  # Passando valores de teste\n"
   ]
  }
 ],
 "metadata": {
  "kernelspec": {
   "display_name": "regressao_linear_multipla-0EHk9b01",
   "language": "python",
   "name": "python3"
  },
  "language_info": {
   "codemirror_mode": {
    "name": "ipython",
    "version": 3
   },
   "file_extension": ".py",
   "mimetype": "text/x-python",
   "name": "python",
   "nbconvert_exporter": "python",
   "pygments_lexer": "ipython3",
   "version": "3.13.0"
  }
 },
 "nbformat": 4,
 "nbformat_minor": 2
}
